{
 "cells": [
  {
   "cell_type": "markdown",
   "id": "a1face28-ea63-4c14-8848-4ff2942330e1",
   "metadata": {},
   "source": [
    "# Understanding the Moon #\n",
    "\n",
    "- semester: first semester, academic year 2022\n",
    "- time: from 18:00 to 19:50 on Thursday\n",
    "- classroom: A-106\n",
    "- instructor: Kinoshita Daisuke\n",
    "- course web page: https://s3b.astro.ncu.edu.tw/moon_202209/\n",
    "- GitHub repository: https://github.com/kinoshitadaisuke/ncu_moon_202209\n",
    "- Binder web page: https://mybinder.org/v2/gh/kinoshitadaisuke/ncu_moon_202209/HEAD"
   ]
  },
  {
   "cell_type": "markdown",
   "id": "82119bec-962c-40aa-891d-c6455e490388",
   "metadata": {},
   "source": [
    "# Session 04 #\n",
    "\n",
    "This notebook is for the session 04."
   ]
  },
  {
   "cell_type": "code",
   "execution_count": null,
   "id": "6dfeae8c-6cf9-4938-8836-c63230a00933",
   "metadata": {},
   "outputs": [],
   "source": [
    "# run this cell to show the source code of sample script 00 #\n",
    "\n",
    "!cat moon_202209_s04_00.py"
   ]
  },
  {
   "cell_type": "code",
   "execution_count": null,
   "id": "3a189eba-a40a-44f1-a1a4-2aa3f942defe",
   "metadata": {},
   "outputs": [],
   "source": [
    "# run this cell to execute sample script 00 #\n",
    "\n",
    "!python3.9 moon_202209_s4_00.py"
   ]
  },
  {
   "cell_type": "code",
   "execution_count": null,
   "id": "1dcde97c-838a-4d56-8f3f-1cce570fd02a",
   "metadata": {},
   "outputs": [],
   "source": [
    "# run this cell to crop images\n",
    "\n",
    "!ls moon_3d_??????.png | perl -ne 'chop; $old=$_; s/.png/c.png/g; print \"echo $_\\nconvert $old -crop 1920x1080+768+432 $_\\n\";' | sh"
   ]
  },
  {
   "cell_type": "code",
   "execution_count": null,
   "id": "269d22f1-fedd-46ce-af4d-1f1da60de43c",
   "metadata": {},
   "outputs": [],
   "source": [
    "# run this cell to make a movie file\n",
    "\n",
    "!ffmpeg -f image2 -start_number 0 -framerate 20 -i moon_3d_%06dc.png -an -vcodec libx264 -pix_fmt yuv420p -threads 8 moon_3d.mp4"
   ]
  },
  {
   "cell_type": "code",
   "execution_count": null,
   "id": "5fedde60-fa29-4df3-b89c-4eece04df0af",
   "metadata": {},
   "outputs": [],
   "source": [
    "# run this cell to play movie #\n",
    "\n",
    "import IPython.display\n",
    "\n",
    "IPython.display.Video ('moon_3d.mp4')"
   ]
  },
  {
   "cell_type": "code",
   "execution_count": null,
   "id": "36eeb1b3-70b7-4417-970c-a6fe12f9a0bf",
   "metadata": {},
   "outputs": [],
   "source": []
  }
 ],
 "metadata": {
  "kernelspec": {
   "display_name": "Python 3 (ipykernel)",
   "language": "python",
   "name": "python3"
  },
  "language_info": {
   "codemirror_mode": {
    "name": "ipython",
    "version": 3
   },
   "file_extension": ".py",
   "mimetype": "text/x-python",
   "name": "python",
   "nbconvert_exporter": "python",
   "pygments_lexer": "ipython3",
   "version": "3.9.13"
  }
 },
 "nbformat": 4,
 "nbformat_minor": 5
}
