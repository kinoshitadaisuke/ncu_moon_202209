{
 "cells": [
  {
   "cell_type": "markdown",
   "id": "4fc09e6c-12fb-4d80-88be-5cc24051b86f",
   "metadata": {},
   "source": [
    "# \"Understanding the Moon\" (first semester, academic year 2022) #\n",
    "\n",
    "## About the course ##\n",
    "\n",
    "- \"Understanding the Moon\"\n",
    "  - semester: first semester of academic year 2022 (from Sep/2022 to Jan/2023)\n",
    "  - classroom: A-106\n",
    "  - time: from 18:00 to 19:50 on Thursday\n",
    "  - instructor: Kinoshita Daisuke\n",
    "  - course web page: https://s3b.astro.ncu.edu.tw/moon_202209/\n",
    "  - GitHub repository: https://github.com/kinoshitadaisuke/ncu_moon_202209\n",
    "  - Binder web page: https://mybinder.org/v2/gh/kinoshitadaisuke/ncu_moon_202209/HEAD\n",
    "  \n",
    "__Visit the course web page and download course material.__\n",
    "\n",
    "__When downloading course material, connect to a Wi-Fi of our university or use VPN service of our university.__"
   ]
  },
  {
   "cell_type": "markdown",
   "id": "16318f32-c1be-4a3e-9998-267e9ae09d7f",
   "metadata": {},
   "source": [
    "# Session 01: Introduction to the Moon #\n",
    "\n",
    "Date/Time: from 18:00 to 19:50 on 15/Sep/2022"
   ]
  },
  {
   "cell_type": "markdown",
   "id": "54335fb4-ba6c-4e7c-a192-ef4da4cce23e",
   "metadata": {},
   "source": [
    "# Comparison of Earth and Moon sizes #"
   ]
  },
  {
   "cell_type": "code",
   "execution_count": null,
   "id": "57f1f8cf-fbd2-4fd6-a6f1-b4efa04067ba",
   "metadata": {},
   "outputs": [],
   "source": [
    "#!/usr/pkg/bin/python3.9\n",
    "\n",
    "#\n",
    "# Time-stamp: <2022/09/15 12:05:36 (CST) daisuke>\n",
    "#\n",
    "\n",
    "# Earth size in km\n",
    "diameter_earth = 12756\n",
    "\n",
    "# Moon size in km\n",
    "diameter_moon  = 3476\n",
    "\n",
    "# comparison of Earth and Moon sizes\n",
    "comparison = diameter_moon / diameter_earth * 100.0\n",
    "\n",
    "# printing result of calculation\n",
    "print (f'Earth diameter is {diameter_earth} km.')\n",
    "print (f'Moon diameter is {diameter_moon} km.')\n",
    "print (f'Moon size is {comparison:4.1f} percent of Earth size.')"
   ]
  },
  {
   "cell_type": "markdown",
   "id": "af5ac341-6fa7-43b4-a307-1c162c318e26",
   "metadata": {},
   "source": [
    "# Comparison of Jupiter and Ganymede sizes #"
   ]
  },
  {
   "cell_type": "code",
   "execution_count": null,
   "id": "5a5db051-93b3-45a8-b3f4-f1853f9cd82a",
   "metadata": {},
   "outputs": [],
   "source": [
    "#!/usr/pkg/bin/python3.9\n",
    "\n",
    "#\n",
    "# Time-stamp: <2022/09/15 12:11:53 (CST) daisuke>\n",
    "#\n",
    "\n",
    "# Jupiter size in km\n",
    "diameter_jupiter  = 142984\n",
    "\n",
    "# Ganymede size in km\n",
    "diameter_ganymede = 5268\n",
    "\n",
    "# comparison of Jupiter and Ganymede sizes\n",
    "comparison = diameter_ganymede / diameter_jupiter * 100.0\n",
    "\n",
    "# printing result of calculation\n",
    "print (f'Jupiter diameter is {diameter_jupiter} km.')\n",
    "print (f'Ganymede diameter is {diameter_ganymede} km.')\n",
    "print (f'Ganymede size is {comparison:4.1f} percent of Jupiter size.')"
   ]
  },
  {
   "cell_type": "markdown",
   "id": "ce446678-ad48-4d41-b937-ccd83a240953",
   "metadata": {},
   "source": [
    "# Comparison of Earth and Moon volumes #"
   ]
  },
  {
   "cell_type": "code",
   "execution_count": null,
   "id": "221c8c29-e51a-42ad-9cf8-1644e7839409",
   "metadata": {},
   "outputs": [],
   "source": [
    "#!/usr/pkg/bin/python3.9\n",
    "\n",
    "#\n",
    "# Time-stamp: <2022/09/15 12:15:52 (CST) daisuke>\n",
    "#\n",
    "\n",
    "# importing math module\n",
    "import math\n",
    "\n",
    "# value of pi\n",
    "pi = math.pi\n",
    "\n",
    "# Earth diameter in km\n",
    "diameter_earth = 12756\n",
    "\n",
    "# Moon diameter in km\n",
    "diameter_moon  = 3476\n",
    "\n",
    "# calculation of Earth volume\n",
    "volume_earth = 4.0 / 3.0 * pi * (diameter_earth * 10**3 / 2.0)**3\n",
    "\n",
    "# calculation of Moon volume\n",
    "volume_moon = 4.0 / 3.0 * pi * (diameter_moon * 10**3 / 2.0)**3\n",
    "\n",
    "# comparison of Earth and Moon volumes\n",
    "comparison = volume_moon / volume_earth * 100.0\n",
    "\n",
    "# printing result of calculation\n",
    "print (f'Earth volume is {volume_earth:g} m^3.')\n",
    "print (f'Moon volume is {volume_moon:g} m^3.')\n",
    "print (f'Moon volume is {comparison:4.1f} percent of Earth volume.')"
   ]
  },
  {
   "cell_type": "markdown",
   "id": "a5bfe814-3e56-4442-a891-9ddb834dd8e3",
   "metadata": {},
   "source": [
    "# Comparison of Earth and Moon masses #"
   ]
  },
  {
   "cell_type": "code",
   "execution_count": null,
   "id": "c9bcced0-c4f2-41bc-81b9-89b90751a8cf",
   "metadata": {},
   "outputs": [],
   "source": [
    "#!/usr/pkg/bin/python3.9\n",
    "\n",
    "#\n",
    "# Time-stamp: <2022/09/15 12:18:15 (CST) daisuke>\n",
    "#\n",
    "\n",
    "# Earth mass in kg\n",
    "mass_earth = 5.974 * 10**24\n",
    "\n",
    "# Moon mass in kg\n",
    "mass_moon  = 7.349 * 10**22\n",
    "\n",
    "# comparison of Earth and Moon masses\n",
    "comparison = mass_moon / mass_earth * 100.0\n",
    "\n",
    "# printing result of calculation\n",
    "print (f'Earth mass is {mass_earth} kg.')\n",
    "print (f'Moon mass is {mass_moon} kg.')\n",
    "print (f'Moon mass is {comparison:4.1f} percent of Earth mass.')"
   ]
  },
  {
   "cell_type": "markdown",
   "id": "77b5fc73-944a-4e67-a720-6e041a7047ae",
   "metadata": {},
   "source": [
    "# Angular diameter of the Moon as seen from the Earth #"
   ]
  },
  {
   "cell_type": "code",
   "execution_count": null,
   "id": "7fd4832c-12ad-44d9-9633-802243714371",
   "metadata": {},
   "outputs": [],
   "source": [
    "#!/usr/pkg/bin/python3.9\n",
    "\n",
    "#\n",
    "# Time-stamp: <2022/09/15 12:22:45 (CST) daisuke>\n",
    "#\n",
    "\n",
    "# importing math modue\n",
    "import math\n",
    "\n",
    "# value of pi\n",
    "pi = math.pi\n",
    "\n",
    "# Moon size in km\n",
    "diameter_moon = 3476\n",
    "\n",
    "# Earth-Moon distance in km\n",
    "distance      = 384400\n",
    "\n",
    "# calculation of angular diameter of the Moon as seen from the Earth\n",
    "a_rad    = diameter_moon / distance\n",
    "a_deg    = a_rad * 180.0 / pi\n",
    "a_arcmin = a_deg * 60.0\n",
    "\n",
    "# printing result of calculation\n",
    "print (f'Moon diameter is {diameter_moon} km.')\n",
    "print (f'Earth-Moon distance is {distance} km.')\n",
    "print (f'Angular size of Moon is {a_deg:4.2f} deg = {a_arcmin:2.0f} arcmin.')"
   ]
  },
  {
   "cell_type": "markdown",
   "id": "e626d92f-1ef2-4364-a350-25360bbdb542",
   "metadata": {},
   "source": [
    "# Angular size of the Sun as seen from the Earth #"
   ]
  },
  {
   "cell_type": "code",
   "execution_count": null,
   "id": "8776e1a0-2181-46cf-a5c9-7f6fd1867a44",
   "metadata": {},
   "outputs": [],
   "source": [
    "#!/usr/pkg/bin/python3.9\n",
    "\n",
    "#\n",
    "# Time-stamp: <2022/09/15 12:26:27 (CST) daisuke>\n",
    "#\n",
    "\n",
    "# importing math modue\n",
    "import math\n",
    "\n",
    "# value of pi\n",
    "pi = math.pi\n",
    "\n",
    "# solar radius in km\n",
    "radius_sun   = 6.96 * 10**5\n",
    "diameter_sun = radius_sun * 2.0\n",
    "\n",
    "# Sun-Earth distance (1 astronomical unit) in km\n",
    "distance     = 1.496 * 10**8\n",
    "\n",
    "# calculation of angular diameter of the Sun as seen from the Earth\n",
    "a_rad    = diameter_sun / distance\n",
    "a_deg    = a_rad * 180.0 / pi\n",
    "a_arcmin = a_deg * 60.0\n",
    "\n",
    "# printing result of calculation\n",
    "print (f'Solar diameter is {diameter_sun:g} km.')\n",
    "print (f'Sun-Earth distance is {distance:g} km.')\n",
    "print (f'Angular size of Sun is {a_deg:4.2f} deg = {a_arcmin:2.0f} arcmin.')"
   ]
  },
  {
   "cell_type": "markdown",
   "id": "dbc31574-e642-4396-b50a-4907040f8ac7",
   "metadata": {},
   "source": [
    "# The greatest distance between the Earth and the Moon #"
   ]
  },
  {
   "cell_type": "code",
   "execution_count": null,
   "id": "23bde3ac-d710-48a8-956d-81e028158b21",
   "metadata": {},
   "outputs": [],
   "source": [
    "#!/usr/pkg/bin/python3.9\n",
    "\n",
    "#\n",
    "# Time-stamp: <2022/09/15 12:30:06 (CST) daisuke>\n",
    "#\n",
    "\n",
    "# semimajor axis of the Moon orbit around the Earth in km\n",
    "a = 384400\n",
    "\n",
    "# eccentricity of the Moon orbit\n",
    "e = 0.0549\n",
    "\n",
    "# calculation of the greatest distance between Earth and Moon\n",
    "Q = (1.0 + e) * a\n",
    "\n",
    "# printing result of calculation\n",
    "print (f'Semimajor axis of Moon orbit is {a:g} km.')\n",
    "print (f'Greatest distance between Earth and Moon is {Q:g} km.')"
   ]
  },
  {
   "cell_type": "markdown",
   "id": "c5c03b29-fee1-43a6-8f3e-483419cbc01c",
   "metadata": {},
   "source": [
    "# The least distance between the Earth and the Moon #"
   ]
  },
  {
   "cell_type": "code",
   "execution_count": null,
   "id": "e6ee8eab-339d-4fd9-8991-6c29735e96d1",
   "metadata": {},
   "outputs": [],
   "source": [
    "#!/usr/pkg/bin/python3.9\n",
    "\n",
    "#\n",
    "# Time-stamp: <2022/09/15 12:31:25 (CST) daisuke>\n",
    "#\n",
    "\n",
    "# semimajor axis of the Moon orbit around the Earth in km\n",
    "a = 384400\n",
    "\n",
    "# eccentricity of the Moon orbit\n",
    "e = 0.0549\n",
    "\n",
    "# calculation of the least distance between Earth and Moon\n",
    "q = (1.0 - e) * a\n",
    "\n",
    "# printing result of calculation\n",
    "print (f'Semimajor axis of Moon orbit is {a:g} km.')\n",
    "print (f'Least distance between Earth and Moon is {q:g} km.')"
   ]
  },
  {
   "cell_type": "markdown",
   "id": "acd2aee7-aa49-44d9-87d7-082356fc3559",
   "metadata": {},
   "source": [
    "# Comparison of brightness of the Sun and the full Moon #"
   ]
  },
  {
   "cell_type": "code",
   "execution_count": null,
   "id": "a499498a-c103-428d-8ae9-f39a9d8e247d",
   "metadata": {},
   "outputs": [],
   "source": [
    "#!/usr/pkg/bin/python3.9\n",
    "\n",
    "#\n",
    "# Time-stamp: <2022/09/15 12:35:30 (CST) daisuke>\n",
    "#\n",
    "\n",
    "# apparent magnitude of the Sun\n",
    "mag_sun  = -26.7\n",
    "\n",
    "# apparent magnitude of the full Moon\n",
    "mag_moon = -12.7\n",
    "\n",
    "# comparison of brightness of the Sun and the full Moon\n",
    "comparison = 10**(-0.4 * (mag_moon - mag_sun))\n",
    "\n",
    "# printing result of calculation\n",
    "print (f'Brightness of the full Moon is {comparison:g} of that of the Sun.')"
   ]
  },
  {
   "cell_type": "code",
   "execution_count": null,
   "id": "014c91f6-7f17-44bc-8a31-c485d99c8263",
   "metadata": {},
   "outputs": [],
   "source": []
  }
 ],
 "metadata": {
  "kernelspec": {
   "display_name": "Python 3 (ipykernel)",
   "language": "python",
   "name": "python3"
  },
  "language_info": {
   "codemirror_mode": {
    "name": "ipython",
    "version": 3
   },
   "file_extension": ".py",
   "mimetype": "text/x-python",
   "name": "python",
   "nbconvert_exporter": "python",
   "pygments_lexer": "ipython3",
   "version": "3.9.13"
  }
 },
 "nbformat": 4,
 "nbformat_minor": 5
}
