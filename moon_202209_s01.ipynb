{
 "cells": [
  {
   "cell_type": "markdown",
   "id": "4fc09e6c-12fb-4d80-88be-5cc24051b86f",
   "metadata": {},
   "source": [
    "# \"Understanding the Moon\" (first semester, academic year 2022) #\n",
    "\n",
    "## About the course ##\n",
    "\n",
    "- \"Understanding the Moon\"\n",
    "  - semester: first semester of academic year 2022 (from Sep/2022 to Jan/2023)\n",
    "  - classroom: A-106\n",
    "  - time: from 18:00 to 19:50 on Thursday\n",
    "  - instructor: Kinoshita Daisuke\n",
    "  - course web page: https://s3b.astro.ncu.edu.tw/moon_202209/\n",
    "  - GitHub repository: https://github.com/kinoshitadaisuke/ncu_moon_202209\n",
    "  - Binder web page:\n",
    "  \n",
    "__Visit the course web page and download course material.__\n",
    "\n",
    "__When downloading course material, connect to a Wi-Fi of our university or use VPN service of our university.__"
   ]
  },
  {
   "cell_type": "markdown",
   "id": "16318f32-c1be-4a3e-9998-267e9ae09d7f",
   "metadata": {},
   "source": [
    "# Session 01: Introduction to the Moon #\n",
    "\n",
    "Date/Time: from 18:00 to 19:50 on 15/Sep/2022"
   ]
  },
  {
   "cell_type": "markdown",
   "id": "54335fb4-ba6c-4e7c-a192-ef4da4cce23e",
   "metadata": {},
   "source": [
    "# Comparison of Earth and Moon sizes #"
   ]
  },
  {
   "cell_type": "code",
   "execution_count": null,
   "id": "57f1f8cf-fbd2-4fd6-a6f1-b4efa04067ba",
   "metadata": {},
   "outputs": [],
   "source": [
    "#!/usr/pkg/bin/python3.9\n",
    "\n",
    "#\n",
    "# Time-stamp: <2022/09/15 12:05:36 (CST) daisuke>\n",
    "#\n",
    "\n",
    "# Earth size in km\n",
    "diameter_earth = 12756\n",
    "\n",
    "# Moon size in km\n",
    "diameter_moon  = 3476\n",
    "\n",
    "# comparison of Earth and Moon sizes\n",
    "comparison = diameter_moon / diameter_earth * 100.0\n",
    "\n",
    "# printing result of calculation\n",
    "print (f'Earth diameter is {diameter_earth} km.')\n",
    "print (f'Moon diameter is {diameter_moon} km.')\n",
    "print (f'Moon size is {comparison:4.1f} percent of Earth size.')"
   ]
  },
  {
   "cell_type": "code",
   "execution_count": null,
   "id": "b7055d09-05c0-470e-9ed2-d515a682e6a7",
   "metadata": {},
   "outputs": [],
   "source": []
  }
 ],
 "metadata": {
  "kernelspec": {
   "display_name": "Python 3 (ipykernel)",
   "language": "python",
   "name": "python3"
  },
  "language_info": {
   "codemirror_mode": {
    "name": "ipython",
    "version": 3
   },
   "file_extension": ".py",
   "mimetype": "text/x-python",
   "name": "python",
   "nbconvert_exporter": "python",
   "pygments_lexer": "ipython3",
   "version": "3.9.13"
  }
 },
 "nbformat": 4,
 "nbformat_minor": 5
}
